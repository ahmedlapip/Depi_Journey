{
 "cells": [
  {
   "cell_type": "markdown",
   "id": "7792ca5c-02a9-46b5-9c67-89c46789b34a",
   "metadata": {},
   "source": []
  },
  {
   "cell_type": "code",
   "execution_count": 1,
   "id": "825e6e75-7c6a-46d3-bbf1-cc8232f97234",
   "metadata": {},
   "outputs": [],
   "source": [
    "import pandas as pd"
   ]
  },
  {
   "cell_type": "code",
   "execution_count": 3,
   "id": "8dc8f958-670b-4e86-9dac-72965376d591",
   "metadata": {},
   "outputs": [],
   "source": [
    "df_s = pd.read_csv('sales_data.csv')\n",
    "df_e = pd.read_csv('employee_data.csv')"
   ]
  },
  {
   "cell_type": "code",
   "execution_count": 4,
   "id": "e1227f3e-bed8-468d-a8af-100e0ee0cfbb",
   "metadata": {},
   "outputs": [
    {
     "data": {
      "text/html": [
       "<div>\n",
       "<style scoped>\n",
       "    .dataframe tbody tr th:only-of-type {\n",
       "        vertical-align: middle;\n",
       "    }\n",
       "\n",
       "    .dataframe tbody tr th {\n",
       "        vertical-align: top;\n",
       "    }\n",
       "\n",
       "    .dataframe thead th {\n",
       "        text-align: right;\n",
       "    }\n",
       "</style>\n",
       "<table border=\"1\" class=\"dataframe\">\n",
       "  <thead>\n",
       "    <tr style=\"text-align: right;\">\n",
       "      <th></th>\n",
       "      <th>TransactionID</th>\n",
       "      <th>CustomerID</th>\n",
       "      <th>SalesAmount</th>\n",
       "      <th>PurchaseDate</th>\n",
       "      <th>EmployeeID</th>\n",
       "    </tr>\n",
       "  </thead>\n",
       "  <tbody>\n",
       "    <tr>\n",
       "      <th>0</th>\n",
       "      <td>T00001</td>\n",
       "      <td>C0001</td>\n",
       "      <td>$2,824</td>\n",
       "      <td>01-11-2022</td>\n",
       "      <td>1</td>\n",
       "    </tr>\n",
       "    <tr>\n",
       "      <th>1</th>\n",
       "      <td>T00002</td>\n",
       "      <td>C0002</td>\n",
       "      <td>$1,409</td>\n",
       "      <td>19-11-2023</td>\n",
       "      <td>2</td>\n",
       "    </tr>\n",
       "    <tr>\n",
       "      <th>2</th>\n",
       "      <td>T00003</td>\n",
       "      <td>C0003</td>\n",
       "      <td>$5,506</td>\n",
       "      <td>09-10-2023</td>\n",
       "      <td>3</td>\n",
       "    </tr>\n",
       "    <tr>\n",
       "      <th>3</th>\n",
       "      <td>T00004</td>\n",
       "      <td>C0004</td>\n",
       "      <td>$5,012</td>\n",
       "      <td>04-02-2022</td>\n",
       "      <td>3</td>\n",
       "    </tr>\n",
       "    <tr>\n",
       "      <th>4</th>\n",
       "      <td>T00005</td>\n",
       "      <td>C0005</td>\n",
       "      <td>$4,657</td>\n",
       "      <td>28-10-2024</td>\n",
       "      <td>7</td>\n",
       "    </tr>\n",
       "  </tbody>\n",
       "</table>\n",
       "</div>"
      ],
      "text/plain": [
       "  TransactionID CustomerID SalesAmount PurchaseDate  EmployeeID\n",
       "0        T00001      C0001      $2,824   01-11-2022           1\n",
       "1        T00002      C0002      $1,409   19-11-2023           2\n",
       "2        T00003      C0003      $5,506   09-10-2023           3\n",
       "3        T00004      C0004      $5,012   04-02-2022           3\n",
       "4        T00005      C0005      $4,657   28-10-2024           7"
      ]
     },
     "execution_count": 4,
     "metadata": {},
     "output_type": "execute_result"
    }
   ],
   "source": [
    "df_s.head(5)"
   ]
  },
  {
   "cell_type": "code",
   "execution_count": 5,
   "id": "4bf6dd68-f545-41a6-a457-34a38e6c4d0f",
   "metadata": {},
   "outputs": [
    {
     "data": {
      "text/html": [
       "<div>\n",
       "<style scoped>\n",
       "    .dataframe tbody tr th:only-of-type {\n",
       "        vertical-align: middle;\n",
       "    }\n",
       "\n",
       "    .dataframe tbody tr th {\n",
       "        vertical-align: top;\n",
       "    }\n",
       "\n",
       "    .dataframe thead th {\n",
       "        text-align: right;\n",
       "    }\n",
       "</style>\n",
       "<table border=\"1\" class=\"dataframe\">\n",
       "  <thead>\n",
       "    <tr style=\"text-align: right;\">\n",
       "      <th></th>\n",
       "      <th>EmployeeID</th>\n",
       "      <th>Name</th>\n",
       "      <th>DepartmentID</th>\n",
       "      <th>Salary</th>\n",
       "      <th>SupervisorID</th>\n",
       "    </tr>\n",
       "  </thead>\n",
       "  <tbody>\n",
       "    <tr>\n",
       "      <th>0</th>\n",
       "      <td>1</td>\n",
       "      <td>Cheyenne Padilla</td>\n",
       "      <td>5</td>\n",
       "      <td>$96,438</td>\n",
       "      <td>NaN</td>\n",
       "    </tr>\n",
       "    <tr>\n",
       "      <th>1</th>\n",
       "      <td>2</td>\n",
       "      <td>Michael Martin</td>\n",
       "      <td>5</td>\n",
       "      <td>$105,519</td>\n",
       "      <td>6.0</td>\n",
       "    </tr>\n",
       "    <tr>\n",
       "      <th>2</th>\n",
       "      <td>3</td>\n",
       "      <td>Tim Wright</td>\n",
       "      <td>4</td>\n",
       "      <td>$103,883</td>\n",
       "      <td>5.0</td>\n",
       "    </tr>\n",
       "    <tr>\n",
       "      <th>3</th>\n",
       "      <td>4</td>\n",
       "      <td>Kristy Archer</td>\n",
       "      <td>2</td>\n",
       "      <td>$111,213</td>\n",
       "      <td>1.0</td>\n",
       "    </tr>\n",
       "    <tr>\n",
       "      <th>4</th>\n",
       "      <td>5</td>\n",
       "      <td>Robert Rios</td>\n",
       "      <td>4</td>\n",
       "      <td>$145,561</td>\n",
       "      <td>3.0</td>\n",
       "    </tr>\n",
       "  </tbody>\n",
       "</table>\n",
       "</div>"
      ],
      "text/plain": [
       "   EmployeeID              Name  DepartmentID    Salary  SupervisorID\n",
       "0           1  Cheyenne Padilla             5   $96,438           NaN\n",
       "1           2    Michael Martin             5  $105,519           6.0\n",
       "2           3        Tim Wright             4  $103,883           5.0\n",
       "3           4     Kristy Archer             2  $111,213           1.0\n",
       "4           5       Robert Rios             4  $145,561           3.0"
      ]
     },
     "execution_count": 5,
     "metadata": {},
     "output_type": "execute_result"
    }
   ],
   "source": [
    "df_e.head(5)"
   ]
  },
  {
   "cell_type": "code",
   "execution_count": 15,
   "id": "c51e59d7-f34b-45ec-96b0-dc7710b5b4ed",
   "metadata": {},
   "outputs": [
    {
     "name": "stdout",
     "output_type": "stream",
     "text": [
      "<class 'pandas.core.frame.DataFrame'>\n",
      "RangeIndex: 100 entries, 0 to 99\n",
      "Data columns (total 5 columns):\n",
      " #   Column         Non-Null Count  Dtype \n",
      "---  ------         --------------  ----- \n",
      " 0   TransactionID  100 non-null    object\n",
      " 1   CustomerID     100 non-null    object\n",
      " 2   SalesAmount    100 non-null    object\n",
      " 3   PurchaseDate   100 non-null    object\n",
      " 4   EmployeeID     100 non-null    int64 \n",
      "dtypes: int64(1), object(4)\n",
      "memory usage: 4.0+ KB\n",
      "None \n",
      "\n",
      "<class 'pandas.core.frame.DataFrame'>\n",
      "RangeIndex: 10 entries, 0 to 9\n",
      "Data columns (total 5 columns):\n",
      " #   Column        Non-Null Count  Dtype  \n",
      "---  ------        --------------  -----  \n",
      " 0   EmployeeID    10 non-null     int64  \n",
      " 1   Name          10 non-null     object \n",
      " 2   DepartmentID  10 non-null     int64  \n",
      " 3   Salary        10 non-null     object \n",
      " 4   SupervisorID  9 non-null      float64\n",
      "dtypes: float64(1), int64(2), object(2)\n",
      "memory usage: 532.0+ bytes\n",
      "None\n"
     ]
    }
   ],
   "source": [
    "print(df_s.info(), \"\\n\")\n",
    "print(df_e.info())"
   ]
  },
  {
   "cell_type": "code",
   "execution_count": 58,
   "id": "7fa49e03-5663-445f-b3c6-6cf65c3b9032",
   "metadata": {},
   "outputs": [],
   "source": [
    "df_s_edit = df_s.copy()\n",
    "df_e_edit = df_e.copy()"
   ]
  },
  {
   "cell_type": "markdown",
   "id": "8f26dc6a-0b2a-4297-bd93-ac79b2452315",
   "metadata": {},
   "source": [
    "## Cleaning Sales Data"
   ]
  },
  {
   "cell_type": "code",
   "execution_count": 41,
   "id": "9eae9eaa-8518-4dd5-a254-eea85274f41b",
   "metadata": {},
   "outputs": [],
   "source": [
    "# we should remove '$' and ','\n",
    "df_s_edit['SalesAmount'] = pd.to_numeric(df_s['SalesAmount'].replace({r'\\$':'', ',':''}, regex=True), errors='coerce')\n",
    "\n",
    "# used format becase the default is month-day-year which is not the case in our data\n",
    "df_s_edit['PurchaseDate'] = pd.to_datetime(df_s['PurchaseDate'], format='%d-%m-%Y', errors='coerce')"
   ]
  },
  {
   "cell_type": "code",
   "execution_count": 42,
   "id": "0845b45e-36bd-49a5-91ee-ea23c562e2ee",
   "metadata": {},
   "outputs": [
    {
     "name": "stdout",
     "output_type": "stream",
     "text": [
      "<class 'pandas.core.frame.DataFrame'>\n",
      "RangeIndex: 100 entries, 0 to 99\n",
      "Data columns (total 5 columns):\n",
      " #   Column         Non-Null Count  Dtype         \n",
      "---  ------         --------------  -----         \n",
      " 0   TransactionID  100 non-null    object        \n",
      " 1   CustomerID     100 non-null    object        \n",
      " 2   SalesAmount    100 non-null    int64         \n",
      " 3   PurchaseDate   100 non-null    datetime64[ns]\n",
      " 4   EmployeeID     100 non-null    int64         \n",
      "dtypes: datetime64[ns](1), int64(2), object(2)\n",
      "memory usage: 4.0+ KB\n"
     ]
    }
   ],
   "source": [
    "df_s_edit.info()"
   ]
  },
  {
   "cell_type": "code",
   "execution_count": 49,
   "id": "70a06f9e-b755-46a1-a836-064c66070126",
   "metadata": {},
   "outputs": [],
   "source": [
    "df_s_clean = df_s_edit.copy()"
   ]
  },
  {
   "cell_type": "markdown",
   "id": "665da13a-6bf0-4608-80f5-d8381b616c16",
   "metadata": {},
   "source": [
    "## Cleaning Employee Data"
   ]
  },
  {
   "cell_type": "code",
   "execution_count": 60,
   "id": "578b0230-413c-4eaa-ad06-99411c47df01",
   "metadata": {},
   "outputs": [],
   "source": [
    "# we should remove '$' and ','\n",
    "df_e_edit['Salary'] = pd.to_numeric(df_e['Salary'].replace({r'\\$':'', ',':''}, regex=True), errors='coerce')\n",
    "\n",
    "# we can't convert NaN to int so we made it 0 (we can also make it string and add something like \"No Supervisor\" in the cell)\n",
    "df_e_edit['SupervisorID'] = df_e_edit['SupervisorID'].fillna(0).astype(int)"
   ]
  },
  {
   "cell_type": "code",
   "execution_count": 61,
   "id": "6585bca0-52c5-4838-8adc-1106e3ff8c6f",
   "metadata": {},
   "outputs": [
    {
     "name": "stdout",
     "output_type": "stream",
     "text": [
      "<class 'pandas.core.frame.DataFrame'>\n",
      "RangeIndex: 10 entries, 0 to 9\n",
      "Data columns (total 5 columns):\n",
      " #   Column        Non-Null Count  Dtype \n",
      "---  ------        --------------  ----- \n",
      " 0   EmployeeID    10 non-null     int64 \n",
      " 1   Name          10 non-null     object\n",
      " 2   DepartmentID  10 non-null     int64 \n",
      " 3   Salary        10 non-null     int64 \n",
      " 4   SupervisorID  10 non-null     int64 \n",
      "dtypes: int64(4), object(1)\n",
      "memory usage: 532.0+ bytes\n"
     ]
    }
   ],
   "source": [
    "df_e_edit.info()"
   ]
  },
  {
   "cell_type": "code",
   "execution_count": 54,
   "id": "cabf716a-d85d-41ce-8abd-01c5aceebed6",
   "metadata": {},
   "outputs": [],
   "source": [
    "df_e_clean = df_e_edit.copy()"
   ]
  },
  {
   "cell_type": "markdown",
   "id": "e800ef34-af82-4d78-ba1d-150eca590e17",
   "metadata": {},
   "source": [
    "## Converting to csv"
   ]
  },
  {
   "cell_type": "code",
   "execution_count": 55,
   "id": "f62af462-c6d9-49a8-b251-a23fed0d53dd",
   "metadata": {},
   "outputs": [],
   "source": [
    "df_s_clean.to_csv('sales_data_clean.csv')\n",
    "df_e_clean.to_csv('employee_data_clean.csv')"
   ]
  },
  {
   "cell_type": "code",
   "execution_count": null,
   "id": "df9fe712-6f68-47d1-82e6-766c7854a1fc",
   "metadata": {},
   "outputs": [],
   "source": []
  }
 ],
 "metadata": {
  "kernelspec": {
   "display_name": "Python 3 (ipykernel)",
   "language": "python",
   "name": "python3"
  },
  "language_info": {
   "codemirror_mode": {
    "name": "ipython",
    "version": 3
   },
   "file_extension": ".py",
   "mimetype": "text/x-python",
   "name": "python",
   "nbconvert_exporter": "python",
   "pygments_lexer": "ipython3",
   "version": "3.12.5"
  }
 },
 "nbformat": 4,
 "nbformat_minor": 5
}
